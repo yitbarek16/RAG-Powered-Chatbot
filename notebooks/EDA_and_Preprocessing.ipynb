{
  "nbformat": 4,
  "nbformat_minor": 0,
  "metadata": {
    "colab": {
      "provenance": [],
      "gpuType": "T4"
    },
    "kernelspec": {
      "name": "python3",
      "display_name": "Python 3"
    },
    "language_info": {
      "name": "python"
    },
    "accelerator": "GPU"
  },
  "cells": [
    {
      "cell_type": "markdown",
      "source": [
        "# Exploratory Data Analysis and Data Preprocessing\n",
        "\n",
        "\n"
      ],
      "metadata": {
        "id": "LK9WSxKiBPBP"
      }
    },
    {
      "cell_type": "markdown",
      "source": [
        "### Prepare and review data"
      ],
      "metadata": {
        "id": "4zJtNDgtB87R"
      }
    },
    {
      "cell_type": "code",
      "execution_count": null,
      "metadata": {
        "id": "mt1eTBHKn97U",
        "colab": {
          "base_uri": "https://localhost:8080/"
        },
        "outputId": "d3f04ed0-d6ff-4ad4-c9f2-9b341d638b8a",
        "collapsed": true
      },
      "outputs": [
        {
          "output_type": "stream",
          "name": "stderr",
          "text": [
            "/tmp/ipython-input-1-3201688290.py:10: DtypeWarning: Columns (16) have mixed types. Specify dtype option on import or set low_memory=False.\n",
            "  df = pd.read_csv(DATA_PATH)\n"
          ]
        },
        {
          "output_type": "stream",
          "name": "stdout",
          "text": [
            "Dataset shape: (9609797, 18)\n",
            "\n",
            "--- Dataset Info ---\n",
            "<class 'pandas.core.frame.DataFrame'>\n",
            "RangeIndex: 9609797 entries, 0 to 9609796\n",
            "Data columns (total 18 columns):\n",
            " #   Column                        Dtype \n",
            "---  ------                        ----- \n",
            " 0   Date received                 object\n",
            " 1   Product                       object\n",
            " 2   Sub-product                   object\n",
            " 3   Issue                         object\n",
            " 4   Sub-issue                     object\n",
            " 5   Consumer complaint narrative  object\n",
            " 6   Company public response       object\n",
            " 7   Company                       object\n",
            " 8   State                         object\n",
            " 9   ZIP code                      object\n",
            " 10  Tags                          object\n",
            " 11  Consumer consent provided?    object\n",
            " 12  Submitted via                 object\n",
            " 13  Date sent to company          object\n",
            " 14  Company response to consumer  object\n",
            " 15  Timely response?              object\n",
            " 16  Consumer disputed?            object\n",
            " 17  Complaint ID                  int64 \n",
            "dtypes: int64(1), object(17)\n",
            "memory usage: 1.3+ GB\n",
            "\n",
            "--- Missing Values ---\n",
            "Date received                         0\n",
            "Product                               0\n",
            "Sub-product                      235295\n",
            "Issue                                 6\n",
            "Sub-issue                        839522\n",
            "Consumer complaint narrative    6629041\n",
            "Company public response         4770207\n",
            "Company                               0\n",
            "State                             54516\n",
            "ZIP code                          30228\n",
            "Tags                            8981029\n",
            "Consumer consent provided?      1649561\n",
            "Submitted via                         0\n",
            "Date sent to company                  0\n",
            "Company response to consumer         20\n",
            "Timely response?                      0\n",
            "Consumer disputed?              8841498\n",
            "Complaint ID                          0\n",
            "dtype: int64\n",
            "\n",
            "--- Unique Products ---\n",
            "Product\n",
            "Credit reporting or other personal consumer reports                             4834855\n",
            "Credit reporting, credit repair services, or other personal consumer reports    2163857\n",
            "Debt collection                                                                  799197\n",
            "Mortgage                                                                         422254\n",
            "Checking or savings account                                                      291178\n",
            "Credit card                                                                      226686\n",
            "Credit card or prepaid card                                                      206369\n",
            "Money transfer, virtual currency, or money service                               145066\n",
            "Credit reporting                                                                 140429\n",
            "Student loan                                                                     109717\n",
            "Bank account or service                                                           86205\n",
            "Vehicle loan or lease                                                             72957\n",
            "Consumer Loan                                                                     31574\n",
            "Payday loan, title loan, or personal loan                                         30641\n",
            "Payday loan, title loan, personal loan, or advance loan                           16514\n",
            "Prepaid card                                                                      15280\n",
            "Payday loan                                                                        5541\n",
            "Money transfers                                                                    5354\n",
            "Debt or credit management                                                          5047\n",
            "Other financial service                                                            1058\n",
            "Virtual currency                                                                     18\n",
            "Name: count, dtype: int64\n",
            "\n",
            "--- Sample Narratives ---\n",
            "[\"I sent a letter regarding inaccurate and unknown things on my credit report. To this day over 30 days later I have not received a response yet. I feel like I'm being taken advantage of and being ignored of my disputes. Section 611 ( a ), it is plainly stated that a failure to investigate these items within 30 days gives a reason to immediately remove those items from my credit report it has been over 30 days so they should be deleted promptly. I demand these accounts be deleted immediately or I will file for litigation due to the stress you caused me. My information was also impacted by the Equifax, XXXX and XXXX data breach and may have got into the hands of the wrong person.\"\n",
            " 'I was using the account for my small things swiping at stores for gas! Navy Federal then allowed someone to take control of my account when we both were authorized users Im not understanding how that works at all I havent been able to get correct information on why or nothing. They told me my name was removed for security reasons thats all. I was going by XXXX XXXX XXXX'\n",
            " 'I am writing to formally file a complaint regarding an XXXX XXXX XXXX collection account that was previously removed from my credit report but has recently reappeared without proper notification, documentation, or valid justification. I am requesting the Consumer Financial Protection Bureaus assistance in investigating this matter and ensuring the account is permanently removed if it was re-added in violation of federal law. \\n\\nThe details of the collection account are as follows : Creditor Name : XXXX XXXX XXXX I previously disputed this collection account on the grounds that it was inaccurate and could not be properly verified. As a result of my dispute, the account was removed from my credit report. However, I was recently alarmed to discover that the same collection account has been reinserted without any prior notice or adequate verification, in clear violation of the Fair Credit Reporting Act ( FCRA ). \\n\\nViolations of the Fair Credit Reporting Act ( FCRA ) : 1. Reinsertion Without Notification : Under 15 U.S. Code 1681i ( a ) ( 5 ) ( B ) ( ii ), if a previously deleted item is reinserted into a consumers credit report, the consumer reporting agency is required to notify the consumer in writing within 5 business days of the reinsertion. I did not receive any such notification, making this reinsertion unlawful. \\n2. Failure to Verify the Accuracy of Information : Per 15 U.S. Code 1681e ( b ), consumer reporting agencies must follow reasonable procedures to ensure the accuracy of the information they include in credit reports. The reappearance of this unverified XXXXXXXX XXXX XXXX collection account suggests a failure to comply with these procedures. \\n3. Lack of Certification from Furnisher of Information : According to 15 U.S. Code 1681i ( a ) ( 5 ) ( B ) ( i ), a previously deleted account can not be reinserted unless the furnisher of the information ( in this case, XXXX XXXX XXXX or the collection agency ) provides certification that the information is complete and accurate. I have received no evidence of such certification. \\n\\nThe unauthorized reinsertion of this XXXX XXXX XXXX collection account has had a direct and damaging effect on my credit score, causing significant financial hardship. As a result of this inaccurate information, I have experienced such as being denied a loan and losing access to credit opportunities along with higher interest rates. This has placed an unnecessary strain on my financial stability, and I am deeply concerned about the lasting impact if this issue is not swiftly resolved. \\n\\nI am formally requesting the following actions from the Consumer Financial Protection Bureau : 1. Investigation : Conduct a full investigation into the unauthorized reinsertion of the XXXX XXXX XXXX collection account on my credit report. \\n2. Validation : Require XXXX XXXX XXXX and/or the collection agency to provide proper documentation and certification verifying the validity of this debt and the legal basis for its reappearance. \\nXXXX. Removal : If the reinsertion violated any provision of the FCRA including lack of notification or failure to verify the accuracy of the information I demand the immediate removal of the XXXX XXXX XXXX collection account from my credit report. \\n4. Compliance Assurance : Ensure that the credit bureaus involved ( XXXX, XXXX, and/or XXXX ) have adhered to all relevant FCRA regulations regarding the reinsertion of previously deleted accounts. \\n\\n\\n\\nI take my credit standing very seriously, and this unjustified reinsertion has caused both financial and emotional distress. I trust that the CFPB will take swift action to address these violations of federal law and hold all responsible parties accountable. \\n\\nPlease keep me informed of the progress of this investigation. \\n\\nThank you for your time and attention to this urgent matter.'\n",
            " 'three occasions on hold more than 30 minutes to explain I do not know this company and did not apply for credit. every time i am told they will eliminate the account and apologize for the continued billing. still, i receive payment notices.'\n",
            " 'I recently filed a complaint, your ID number XXXX. \\n\\nThe investigation for this account on my credit report has exceeded the 30 days allowed for investigation. I have attached the images below confirming when my original letters were submitted to all 3 Credit Bureaus which confirms the dates of receipt. \\n\\nPer the FDCPA, under law, if a credit reporting agency fails to complete an investigation within 30 days, the account/and or trade line must be removed. 15 U.S. Code 1692g']\n"
          ]
        }
      ],
      "source": [
        "import pandas as pd\n",
        "import matplotlib.pyplot as plt\n",
        "import seaborn as sns\n",
        "import os\n",
        "\n",
        "\n",
        "DATA_PATH = \"/content/drive/My Drive/Data/complaints.csv\"\n",
        "\n",
        "# Load the dataset\n",
        "df = pd.read_csv(DATA_PATH)\n",
        "\n",
        "# Preview the dataset\n",
        "print(\"Dataset shape:\", df.shape)\n",
        "df.head()\n",
        "\n",
        "# Basic info\n",
        "print(\"\\n--- Dataset Info ---\")\n",
        "df.info()\n",
        "\n",
        "# Check missing values\n",
        "print(\"\\n--- Missing Values ---\")\n",
        "print(df.isnull().sum())\n",
        "\n",
        "# Unique values in key columns\n",
        "print(\"\\n--- Unique Products ---\")\n",
        "print(df['Product'].value_counts())\n",
        "\n",
        "# Sample narratives\n",
        "print(\"\\n--- Sample Narratives ---\")\n",
        "print(df['Consumer complaint narrative'].dropna().sample(5, random_state=42).values)\n"
      ]
    },
    {
      "cell_type": "markdown",
      "source": [
        "### Filtering and Cleaning"
      ],
      "metadata": {
        "id": "t1JUSGurCOGa"
      }
    },
    {
      "cell_type": "code",
      "source": [
        "product_mapping = {\n",
        "    \"credit card\": \"Credit card\",\n",
        "    \"credit card or prepaid card\": \"Credit card\",\n",
        "\n",
        "    \"consumer loan\": \"Personal loan\",\n",
        "    \"payday loan, title loan, or personal loan\": \"Personal loan\",\n",
        "    \"payday loan, title loan, personal loan, or advance loan\": \"Personal loan\",\n",
        "\n",
        "    \"checking or savings account\": \"Savings account\",\n",
        "\n",
        "    \"money transfers\": \"Money transfers\",\n",
        "    \"money transfer, virtual currency, or money service\": \"Money transfers\"\n",
        "}\n",
        "\n",
        "# Standardize product names (lowercase & strip)\n",
        "df['Product'] = df['Product'].str.strip().str.lower()\n",
        "\n",
        "# Apply mapping\n",
        "df['Mapped_Product'] = df['Product'].map(product_mapping)\n",
        "\n",
        "# Keep only mapped products\n",
        "filtered_df = df[df['Mapped_Product'].notnull()].copy()\n",
        "\n",
        "# Drop rows with missing or empty narratives\n",
        "filtered_df = filtered_df[filtered_df['Consumer complaint narrative'].notnull()]\n",
        "filtered_df = filtered_df[filtered_df['Consumer complaint narrative'].str.strip() != \"\"]\n",
        "\n",
        "print(\"Filtered dataset shape:\", filtered_df.shape)\n",
        "print(filtered_df['Mapped_Product'].value_counts())\n"
      ],
      "metadata": {
        "colab": {
          "base_uri": "https://localhost:8080/"
        },
        "id": "wch3gyOq_NRq",
        "outputId": "a53858c0-2596-4bd1-82f8-9c0aeeb0bbda",
        "collapsed": true
      },
      "execution_count": null,
      "outputs": [
        {
          "output_type": "stream",
          "name": "stdout",
          "text": [
            "Filtered dataset shape: (463933, 19)\n",
            "Mapped_Product\n",
            "Credit card        189334\n",
            "Savings account    140319\n",
            "Money transfers     98685\n",
            "Personal loan       35595\n",
            "Name: count, dtype: int64\n"
          ]
        }
      ]
    },
    {
      "cell_type": "markdown",
      "source": [
        "###  Analyze Narrative Lengths"
      ],
      "metadata": {
        "id": "2mELMiXACRUd"
      }
    },
    {
      "cell_type": "code",
      "source": [
        "import matplotlib.pyplot as plt\n",
        "import seaborn as sns\n",
        "\n",
        "# Compute word count\n",
        "filtered_df[\"narrative_word_count\"] = filtered_df[\"Consumer complaint narrative\"].apply(lambda x: len(str(x).split()))\n",
        "\n",
        "# Summary stats\n",
        "print(filtered_df[\"narrative_word_count\"].describe())\n",
        "\n",
        "# Plot distribution\n",
        "plt.figure(figsize=(10, 6))\n",
        "sns.histplot(filtered_df[\"narrative_word_count\"], bins=50, kde=True)\n",
        "plt.title(\"Distribution of Complaint Narrative Lengths\")\n",
        "plt.xlabel(\"Word Count\")\n",
        "plt.ylabel(\"Frequency\")\n",
        "plt.xlim(0, 500)  # Focus on most common range\n",
        "plt.grid(True)\n",
        "plt.show()\n",
        "\n",
        "# Count short and long complaints\n",
        "very_short = filtered_df[filtered_df[\"narrative_word_count\"] < 20]\n",
        "very_long = filtered_df[filtered_df[\"narrative_word_count\"] > 300]\n",
        "\n",
        "print(f\"\\n🔹 Very short complaints (<20 words): {very_short.shape[0]}\")\n",
        "print(f\"🔸 Very long complaints (>300 words): {very_long.shape[0]}\")\n"
      ],
      "metadata": {
        "colab": {
          "base_uri": "https://localhost:8080/",
          "height": 772
        },
        "id": "Md0SBiVZA8dB",
        "outputId": "25c619fa-ea39-44a8-e4f9-c2b628119141"
      },
      "execution_count": null,
      "outputs": [
        {
          "output_type": "stream",
          "name": "stdout",
          "text": [
            "count    463933.000000\n",
            "mean        205.036303\n",
            "std         227.137225\n",
            "min           1.000000\n",
            "25%          82.000000\n",
            "50%         136.000000\n",
            "75%         254.000000\n",
            "max        6469.000000\n",
            "Name: narrative_word_count, dtype: float64\n"
          ]
        },
        {
          "output_type": "display_data",
          "data": {
            "text/plain": [
              "<Figure size 1000x600 with 1 Axes>"
            ],
            "image/png": "[encoded data removed]"
          },
          "metadata": {}
        },
        {
          "output_type": "stream",
          "name": "stdout",
          "text": [
            "\n",
            "🔹 Very short complaints (<20 words): 11641\n",
            "🔸 Very long complaints (>300 words): 89355\n"
          ]
        }
      ]
    },
    {
      "cell_type": "markdown",
      "source": [
        "### Clean Narratives"
      ],
      "metadata": {
        "id": "9b6u_OSkCmBx"
      }
    },
    {
      "cell_type": "code",
      "source": [
        "import re\n",
        "\n",
        "def clean_text(text):\n",
        "    # Lowercase\n",
        "    text = text.lower()\n",
        "\n",
        "    # Remove boilerplate phrases (can add more as needed)\n",
        "    boilerplate_patterns = [\n",
        "        r\"^i am writing to (file|submit) a complaint.*?\\.\",\n",
        "        r\"^i would like to (file|submit) a complaint.*?\\.\",\n",
        "        r\"^this is a complaint about.*?\\.\",\n",
        "        r\"^dear (cfpb|consumer financial protection bureau).*?\\.\",\n",
        "        r\"^to whom it may concern.*?\\.\",\n",
        "        r\"^complaint id.*?\\n\",\n",
        "        r\"^i am reaching out regarding.*?\\.\",\n",
        "        r\"^i am contacting you because.*?\\.\",\n",
        "        r\"^please be advised that.*?\\.\",\n",
        "        r\"^i have a concern about.*?\\.\",\n",
        "        r\"^i am submitting this complaint because.*?\\.\",\n",
        "        r\"^i want to report an issue with.*?\\.\",\n",
        "        r\"^i am filing this complaint to.*?\\.\",\n",
        "        r\"^i recently filed a complaint.*?\\.\",\n",
        "        r\"^this letter is in regard to.*?\\.\",\n",
        "        r\"^i am writing in regard to.*?\\.\",\n",
        "        r\"^i am writing to express my concern.*?\\.\",\n",
        "        r\"^i am writing to inform you.*?\\.\",\n",
        "        r\"^i am writing regarding.*?\\.\",\n",
        "        r\"^i am submitting this complaint against.*?\\.\",\n",
        "        r\"^i am writing to formally file.*?\\.\",\n",
        "        r\"^i sent a letter regarding.*?\\.\",\n",
        "                               ]\n",
        "\n",
        "    for pattern in boilerplate_patterns:\n",
        "        text = re.sub(pattern, '', text, flags=re.IGNORECASE)\n",
        "\n",
        "    # Remove non-alphanumeric characters (except basic punctuation)\n",
        "    text = re.sub(r\"[^a-z0-9\\s\\.,!?']\", ' ', text)\n",
        "\n",
        "    # Normalize whitespace\n",
        "    text = re.sub(r\"\\s+\", ' ', text).strip()\n",
        "\n",
        "    return text\n",
        "\n",
        "# Apply cleaning\n",
        "filtered_df[\"cleaned_narrative\"] = filtered_df[\"Consumer complaint narrative\"].apply(clean_text)\n",
        "\n",
        "# Drop very short narratives (<20 words) if desired\n",
        "final_df = filtered_df[filtered_df[\"narrative_word_count\"] >= 20].copy()\n",
        "\n",
        "print(\"Final dataset shape after cleaning and filtering short complaints:\", final_df.shape)\n"
      ],
      "metadata": {
        "colab": {
          "base_uri": "https://localhost:8080/"
        },
        "id": "HcChxAG7BqPk",
        "outputId": "468640b2-d69d-4fe9-abaa-4eb8c91fd768"
      },
      "execution_count": null,
      "outputs": [
        {
          "output_type": "stream",
          "name": "stdout",
          "text": [
            "Final dataset shape after cleaning and filtering short complaints: (452292, 21)\n"
          ]
        }
      ]
    },
    {
      "cell_type": "markdown",
      "source": [
        "### Save Cleaned Dataset"
      ],
      "metadata": {
        "id": "sudZIMzvC2qU"
      }
    },
    {
      "cell_type": "code",
      "source": [
        "output_path = \"/content/drive/My Drive/Data/filtered_complaints.csv\"\n",
        "final_df.to_csv(output_path, index=False)"
      ],
      "metadata": {
        "id": "PI5zteq5C53t"
      },
      "execution_count": null,
      "outputs": []
    }
  ]
}